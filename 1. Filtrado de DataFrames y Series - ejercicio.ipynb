{
 "cells": [
  {
   "cell_type": "markdown",
   "metadata": {},
   "source": [
    "# Ejercicio - Busqueda de Alojamiento en Airbnb.\n",
    "\n",
    "Supongamos que somos un agente de [Airbnb](http://www.airbnb.com) localizado en Lisboa, y tenemos que atender peticiones de varios clientes. Tenemos un archivo llamado `airbnb.csv` (en la carpeta data) donde tenemos información de todos los alojamientos de Airbnb en Lisboa."
   ]
  },
  {
   "cell_type": "code",
   "execution_count": 1,
   "metadata": {},
   "outputs": [],
   "source": [
    "import pandas as pd\n",
    "df_airbnb = pd.read_csv(\"./src/airbnb.csv\")"
   ]
  },
  {
   "cell_type": "code",
   "execution_count": 2,
   "metadata": {},
   "outputs": [
    {
     "data": {
      "text/html": [
       "<div>\n",
       "<style scoped>\n",
       "    .dataframe tbody tr th:only-of-type {\n",
       "        vertical-align: middle;\n",
       "    }\n",
       "\n",
       "    .dataframe tbody tr th {\n",
       "        vertical-align: top;\n",
       "    }\n",
       "\n",
       "    .dataframe thead th {\n",
       "        text-align: right;\n",
       "    }\n",
       "</style>\n",
       "<table border=\"1\" class=\"dataframe\">\n",
       "  <thead>\n",
       "    <tr style=\"text-align: right;\">\n",
       "      <th></th>\n",
       "      <th>room_id</th>\n",
       "      <th>host_id</th>\n",
       "      <th>room_type</th>\n",
       "      <th>neighborhood</th>\n",
       "      <th>reviews</th>\n",
       "      <th>overall_satisfaction</th>\n",
       "      <th>accommodates</th>\n",
       "      <th>bedrooms</th>\n",
       "      <th>price</th>\n",
       "    </tr>\n",
       "  </thead>\n",
       "  <tbody>\n",
       "    <tr>\n",
       "      <th>0</th>\n",
       "      <td>6499</td>\n",
       "      <td>14455</td>\n",
       "      <td>Entire home/apt</td>\n",
       "      <td>Belém</td>\n",
       "      <td>8</td>\n",
       "      <td>5.0</td>\n",
       "      <td>2</td>\n",
       "      <td>1.0</td>\n",
       "      <td>57.0</td>\n",
       "    </tr>\n",
       "    <tr>\n",
       "      <th>1</th>\n",
       "      <td>17031</td>\n",
       "      <td>66015</td>\n",
       "      <td>Entire home/apt</td>\n",
       "      <td>Alvalade</td>\n",
       "      <td>0</td>\n",
       "      <td>0.0</td>\n",
       "      <td>2</td>\n",
       "      <td>1.0</td>\n",
       "      <td>46.0</td>\n",
       "    </tr>\n",
       "    <tr>\n",
       "      <th>2</th>\n",
       "      <td>25659</td>\n",
       "      <td>107347</td>\n",
       "      <td>Entire home/apt</td>\n",
       "      <td>Santa Maria Maior</td>\n",
       "      <td>63</td>\n",
       "      <td>5.0</td>\n",
       "      <td>3</td>\n",
       "      <td>1.0</td>\n",
       "      <td>69.0</td>\n",
       "    </tr>\n",
       "    <tr>\n",
       "      <th>3</th>\n",
       "      <td>29248</td>\n",
       "      <td>125768</td>\n",
       "      <td>Entire home/apt</td>\n",
       "      <td>Santa Maria Maior</td>\n",
       "      <td>225</td>\n",
       "      <td>4.5</td>\n",
       "      <td>4</td>\n",
       "      <td>1.0</td>\n",
       "      <td>58.0</td>\n",
       "    </tr>\n",
       "    <tr>\n",
       "      <th>4</th>\n",
       "      <td>29396</td>\n",
       "      <td>126415</td>\n",
       "      <td>Entire home/apt</td>\n",
       "      <td>Santa Maria Maior</td>\n",
       "      <td>132</td>\n",
       "      <td>5.0</td>\n",
       "      <td>4</td>\n",
       "      <td>1.0</td>\n",
       "      <td>67.0</td>\n",
       "    </tr>\n",
       "  </tbody>\n",
       "</table>\n",
       "</div>"
      ],
      "text/plain": [
       "   room_id  host_id        room_type       neighborhood  reviews  \\\n",
       "0     6499    14455  Entire home/apt              Belém        8   \n",
       "1    17031    66015  Entire home/apt           Alvalade        0   \n",
       "2    25659   107347  Entire home/apt  Santa Maria Maior       63   \n",
       "3    29248   125768  Entire home/apt  Santa Maria Maior      225   \n",
       "4    29396   126415  Entire home/apt  Santa Maria Maior      132   \n",
       "\n",
       "   overall_satisfaction  accommodates  bedrooms  price  \n",
       "0                   5.0             2       1.0   57.0  \n",
       "1                   0.0             2       1.0   46.0  \n",
       "2                   5.0             3       1.0   69.0  \n",
       "3                   4.5             4       1.0   58.0  \n",
       "4                   5.0             4       1.0   67.0  "
      ]
     },
     "execution_count": 2,
     "metadata": {},
     "output_type": "execute_result"
    }
   ],
   "source": [
    "df_airbnb.head()"
   ]
  },
  {
   "cell_type": "code",
   "execution_count": 3,
   "metadata": {},
   "outputs": [
    {
     "data": {
      "text/plain": [
       "room_id                   int64\n",
       "host_id                   int64\n",
       "room_type                object\n",
       "neighborhood             object\n",
       "reviews                   int64\n",
       "overall_satisfaction    float64\n",
       "accommodates              int64\n",
       "bedrooms                float64\n",
       "price                   float64\n",
       "dtype: object"
      ]
     },
     "execution_count": 3,
     "metadata": {},
     "output_type": "execute_result"
    }
   ],
   "source": [
    "df_airbnb.dtypes"
   ]
  },
  {
   "cell_type": "markdown",
   "metadata": {},
   "source": [
    "En concreto el dataset tiene las siguientes variables:\n",
    "- room_id: el identificador de la propiedad\n",
    "- host_id: el identificador del dueño de la propiedad\n",
    "- room_type: tipo de propiedad (vivienda completa/(habitacion para compartir/habitación privada)\n",
    "- neighborhood: el barrio de Lisboa\n",
    "- reviews: El numero de opiniones\n",
    "- overall_satisfaction: Puntuacion media del apartamento\n",
    "- accommodates: El numero de personas que se pueden alojar en la propiedad\n",
    "- bedrooms: El número de habitaciones\n",
    "- price: El precio (en euros) por noche"
   ]
  },
  {
   "cell_type": "markdown",
   "metadata": {},
   "source": [
    "## Usando Pandas"
   ]
  },
  {
   "cell_type": "markdown",
   "metadata": {},
   "source": [
    "### Caso 1.\n",
    "\n",
    "Alicia va a ir a Lisboa durante una semana con su marido y sus 2 hijos. Están buscando un apartamento con habitaciones separadas para los padres y los hijos. No les importa donde alojarse o el precio, simplemente quieren tener una experiencia agradable. Esto significa que solo aceptan lugares con más de 10 críticas con una puntuación mayor de 4. Cuando seleccionemos habitaciones para Alicia, tenemos que asegurarnos de ordenar las habitaciones de mejor a peor puntuación. Para aquellas habitaciones que tienen la misma puntuación, debemos mostrar antes aquellas con más críticas. Debemos darle 3 alternativas."
   ]
  },
  {
   "cell_type": "code",
   "execution_count": 5,
   "metadata": {},
   "outputs": [
    {
     "name": "stdout",
     "output_type": "stream",
     "text": [
      "      room_id   host_id        room_type       neighborhood  reviews  \\\n",
      "1865  2777355  14204351  Entire home/apt            Estrela       89   \n",
      "4100  6408578  33201646  Entire home/apt       Misericórdia       86   \n",
      "1153  1374173   2635324  Entire home/apt  Santa Maria Maior       56   \n",
      "\n",
      "      overall_satisfaction  accommodates  bedrooms  price  \n",
      "1865                   5.0             4       3.0   58.0  \n",
      "4100                   5.0             4       3.0   75.0  \n",
      "1153                   5.0             4       3.0   93.0  \n"
     ]
    }
   ],
   "source": [
    "# Consejo: para mostrar 3 alternativas emplee head(3)\n",
    "\n",
    "# condiciones del problema\n",
    "condition = ((df_airbnb['reviews'] >10) & (df_airbnb['overall_satisfaction'] >4))\n",
    "condition_2 = ((df_airbnb['accommodates']==4) & (df_airbnb['bedrooms']==3))\n",
    "\n",
    "df_filter = df_airbnb[condition & condition_2]\n",
    "\n",
    "# ordenamiento\n",
    "df_order = df_filter.sort_values(['overall_satisfaction', 'reviews'], ascending=[False, False])\n",
    "\n",
    "# top 3 \n",
    "df_top3 = df_order.head(3)\n",
    "print(df_top3)"
   ]
  },
  {
   "cell_type": "markdown",
   "metadata": {},
   "source": [
    "### Caso 2\n",
    "\n",
    "Roberto es un casero que tiene una casa en Airbnb. De vez en cuando nos llama preguntando sobre cuales son las críticas de su alojamiento. Hoy está particularmente enfadado, ya que su hermana Clara ha puesto una casa en Airbnb y Roberto quiere asegurarse de que su casa tiene más críticas que las de Clara. Tenemos que crear un dataframe con las propiedades de ambos. Las id de las casas de Roberto y Clara son 97503 y 90387  respectivamente. Finalmente guardamos este dataframe como excel llamado \"roberto.xls"
   ]
  },
  {
   "cell_type": "code",
   "execution_count": 11,
   "metadata": {
    "tags": []
   },
   "outputs": [
    {
     "name": "stdout",
     "output_type": "stream",
     "text": [
      "El host_id 97503 de Roberto no está en el conjunto de datos.\n",
      "El host_id 90387 de Clara no está en el conjunto de datos.\n",
      "DataFrame de Roberto:\n",
      "Empty DataFrame\n",
      "Columns: [room_id, host_id, room_type, neighborhood, reviews, overall_satisfaction, accommodates, bedrooms, price]\n",
      "Index: []\n",
      "\n",
      "DataFrame de Clara:\n",
      "Empty DataFrame\n",
      "Columns: [room_id, host_id, room_type, neighborhood, reviews, overall_satisfaction, accommodates, bedrooms, price]\n",
      "Index: []\n",
      "\n",
      "DataFrame combinado:\n",
      "Empty DataFrame\n",
      "Columns: [room_id, host_id, room_type, neighborhood, reviews, overall_satisfaction, accommodates, bedrooms, price]\n",
      "Index: []\n"
     ]
    }
   ],
   "source": [
    "import pandas as pd\n",
    "\n",
    "# Identificadores de las casas de Roberto y Clara\n",
    "id_roberto = 97503\n",
    "id_clara = 90387\n",
    "\n",
    "# Verificar que los host_id estén presentes en el conjunto de datos original\n",
    "if id_roberto not in df_airbnb['host_id'].values:\n",
    "    print(f\"El host_id {id_roberto} de Roberto no está en el conjunto de datos.\")\n",
    "if id_clara not in df_airbnb['host_id'].values:\n",
    "    print(f\"El host_id {id_clara} de Clara no está en el conjunto de datos.\")\n",
    "\n",
    "# Filtrar propiedades de Roberto y Clara\n",
    "df_roberto = df_airbnb[df_airbnb['host_id'] == id_roberto]\n",
    "df_clara = df_airbnb[df_airbnb['host_id'] == id_clara]\n",
    "\n",
    "# Imprimir los DataFrames individuales\n",
    "print(\"DataFrame de Roberto:\")\n",
    "print(df_roberto)\n",
    "\n",
    "print(\"\\nDataFrame de Clara:\")\n",
    "print(df_clara)\n",
    "\n",
    "# Concatenar los DataFrames de Roberto y Clara\n",
    "df_roberto_clara = pd.concat([df_roberto, df_clara])\n",
    "\n",
    "# Guardar el DataFrame en un archivo Excel\n",
    "df_roberto_clara.to_excel(\"roberto.xlsx\", index=False)\n",
    "\n",
    "# Imprimir el DataFrame combinado\n",
    "print(\"\\nDataFrame combinado:\")\n",
    "print(df_roberto_clara)"
   ]
  },
  {
   "cell_type": "markdown",
   "metadata": {},
   "source": [
    "\n",
    "### Caso 3\n",
    "\n",
    "Diana va a Lisboa a pasar 3 noches y quiere conocer a gente nueva. Tiene un presupuesto de 50€ para su alojamiento. Debemos buscarle las 10 propiedades más baratas, dandole preferencia a aquellas que sean habitaciones compartidas *(room_type == Shared room)*, y para aquellas viviendas compartidas debemos elegir aquellas con mejor puntuación."
   ]
  },
  {
   "cell_type": "code",
   "execution_count": 12,
   "metadata": {
    "tags": []
   },
   "outputs": [
    {
     "name": "stdout",
     "output_type": "stream",
     "text": [
      "        room_id    host_id    room_type       neighborhood  reviews  \\\n",
      "1010    1179457    5799522  Shared room      Santo António       42   \n",
      "3562    5557699   28812904  Shared room  Santa Maria Maior       22   \n",
      "7584   13116032   72951043  Shared room            Arroios        1   \n",
      "13148  19314160  135270245  Shared room        Santa Clara        0   \n",
      "9065   14933182   91501272  Shared room      Santo António        5   \n",
      "4353    6728244   28812904  Shared room  Santa Maria Maior        8   \n",
      "5616    9317561   48360716  Shared room            Arroios       13   \n",
      "6640   11693356   28812904  Shared room  Santa Maria Maior        3   \n",
      "6641   11693442   28812904  Shared room  Santa Maria Maior       16   \n",
      "8908   14708916   91501272  Shared room      Santo António       18   \n",
      "\n",
      "       overall_satisfaction  accommodates  bedrooms  price  \n",
      "1010                    4.0            16       1.0   10.0  \n",
      "3562                    4.0             1       1.0   10.0  \n",
      "7584                    0.0             8       1.0   10.0  \n",
      "13148                   0.0             1       1.0   10.0  \n",
      "9065                    5.0             8       1.0   11.0  \n",
      "4353                    4.5             1       1.0   11.0  \n",
      "5616                    4.5             4       1.0   11.0  \n",
      "6640                    4.5             1       1.0   11.0  \n",
      "6641                    4.5             1       1.0   11.0  \n",
      "8908                    4.5             4       1.0   11.0  \n"
     ]
    }
   ],
   "source": [
    "# Condiciones del problema para Diana\n",
    "condition_diana = ((df_airbnb['price'] <= 50) & (df_airbnb['room_type'] == 'Shared room'))\n",
    "\n",
    "# Filtrar propiedades para Diana\n",
    "df_diana = df_airbnb[condition_diana]\n",
    "\n",
    "# Ordenar por precio ascendente y luego por puntuación descendente para las habitaciones compartidas\n",
    "df_diana = df_diana.sort_values(['price', 'overall_satisfaction'], ascending=[True, False])\n",
    "\n",
    "# Obtener las 10 propiedades más baratas\n",
    "df_diana_top10 = df_diana.head(10)\n",
    "\n",
    "# Imprimir las 10 propiedades más baratas para Diana\n",
    "print(df_diana_top10)"
   ]
  },
  {
   "cell_type": "code",
   "execution_count": null,
   "metadata": {},
   "outputs": [],
   "source": []
  }
 ],
 "metadata": {
  "kernelspec": {
   "display_name": "Python 3 (ipykernel)",
   "language": "python",
   "name": "python3"
  },
  "language_info": {
   "codemirror_mode": {
    "name": "ipython",
    "version": 3
   },
   "file_extension": ".py",
   "mimetype": "text/x-python",
   "name": "python",
   "nbconvert_exporter": "python",
   "pygments_lexer": "ipython3",
   "version": "3.10.13"
  }
 },
 "nbformat": 4,
 "nbformat_minor": 4
}
